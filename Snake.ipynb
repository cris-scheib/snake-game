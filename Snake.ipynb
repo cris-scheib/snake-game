{
 "cells": [
  {
   "cell_type": "code",
   "execution_count": 119,
   "metadata": {},
   "outputs": [],
   "source": [
    "# Imports\n",
    "import numpy as np\n",
    "import matplotlib.pyplot as plt\n",
    "from builtins import range, input\n",
    "\n",
    "# Variável para ajudar a definir o total de estados possíveis\n",
    "LENGTH = 5"
   ]
  },
  {
   "cell_type": "code",
   "execution_count": 285,
   "metadata": {},
   "outputs": [],
   "source": [
    "class Environment:\n",
    "\n",
    "    def __init__(self):\n",
    "        self.board = np.zeros((LENGTH, LENGTH))\n",
    "\n",
    "        self.ended = False\n",
    "        self.num_states = 3**(LENGTH*LENGTH)\n",
    "\n",
    "        self.apple = []\n",
    "        self.snake = [] \n",
    "\n",
    "    def reset(self):\n",
    "        \n",
    "        self.apple = [int(np.random.rand()*(LENGTH)), int(np.random.rand()*(LENGTH))]\n",
    "        self.snake = [[int(np.random.rand()*(LENGTH)), int(np.random.rand()*(LENGTH))]]\n",
    "        \n",
    "        print(self.apple)\n",
    "        print(self.snake)\n",
    "        \n",
    "    def draw_board(self):\n",
    "        for i in range(LENGTH):\n",
    "            for j in range(LENGTH):\n",
    "                p = False   \n",
    "                if(j == 0):\n",
    "                    print(\"|\", end=\"\")\n",
    "                if(i == self.apple[0] and j == self.apple[1]):\n",
    "                    print(\" 0 \", end=\"\") \n",
    "                    p = True\n",
    "                for x, s in enumerate(self.snake):\n",
    "                    if(i == s[0] and j == s[1]):\n",
    "                        if(x == 0):\n",
    "                            print(\" > \", end=\"\")\n",
    "                            p = True\n",
    "                        else:\n",
    "                            print(\" - \", end=\"\")\n",
    "                            p = True\n",
    "                if(p == False):\n",
    "                    print(\"   \", end=\"\")\n",
    "                if(j == LENGTH - 1):\n",
    "                    print(\"|\")\n",
    "        print(\"\")"
   ]
  },
  {
   "cell_type": "code",
   "execution_count": 286,
   "metadata": {},
   "outputs": [],
   "source": [
    "env = Environment()"
   ]
  },
  {
   "cell_type": "code",
   "execution_count": 287,
   "metadata": {},
   "outputs": [
    {
     "name": "stdout",
     "output_type": "stream",
     "text": [
      "[4, 0]\n",
      "[[1, 2]]\n"
     ]
    }
   ],
   "source": [
    "env.reset()"
   ]
  },
  {
   "cell_type": "code",
   "execution_count": 288,
   "metadata": {},
   "outputs": [
    {
     "name": "stdout",
     "output_type": "stream",
     "text": [
      "|               |\n",
      "|       >       |\n",
      "|               |\n",
      "|               |\n",
      "| 0             |\n",
      "\n"
     ]
    }
   ],
   "source": [
    "env.draw_board()"
   ]
  },
  {
   "cell_type": "code",
   "execution_count": null,
   "metadata": {},
   "outputs": [],
   "source": []
  },
  {
   "cell_type": "code",
   "execution_count": null,
   "metadata": {},
   "outputs": [],
   "source": []
  }
 ],
 "metadata": {
  "kernelspec": {
   "display_name": "Python 3",
   "language": "python",
   "name": "python3"
  },
  "language_info": {
   "codemirror_mode": {
    "name": "ipython",
    "version": 3
   },
   "file_extension": ".py",
   "mimetype": "text/x-python",
   "name": "python",
   "nbconvert_exporter": "python",
   "pygments_lexer": "ipython3",
   "version": "3.8.3"
  }
 },
 "nbformat": 4,
 "nbformat_minor": 4
}
