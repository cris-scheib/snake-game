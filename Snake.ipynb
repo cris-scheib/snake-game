{
  "nbformat": 4,
  "nbformat_minor": 0,
  "metadata": {
    "colab": {
      "name": "MySnake.ipynb",
      "provenance": []
    },
    "kernelspec": {
      "name": "python3",
      "display_name": "Python 3"
    },
    "language_info": {
      "name": "python"
    }
  },
  "cells": [
    {
      "cell_type": "code",
      "execution_count": null,
      "metadata": {
        "id": "JNHLxFJRJ8TI"
      },
      "outputs": [],
      "source": [
        "# Imports\n",
        "import numpy as np\n",
        "import random\n",
        "from builtins import range, input"
      ]
    },
    {
      "cell_type": "code",
      "source": [
        "class Environment:\n",
        "\n",
        "    def __init__(self, size = 5):\n",
        "        self.board = np.zeros((size, size))\n",
        "\n",
        "        self.size = size\n",
        "        self.movement = None\n",
        "        self.states = []\n",
        "        self.num_states = None  \n",
        "        \n",
        "        self.apple = []\n",
        "        self.snake = [] \n",
        "        \n",
        "        self.reset()\n",
        "\n",
        "    def reset(self):\n",
        "        self.set_snake()\n",
        "        self.set_apple()\n",
        "        \n",
        "    def draw_board(self):\n",
        "        print(self.snake)\n",
        "        for i in range(self.size):\n",
        "            for j in range(self.size):\n",
        "                p = False   \n",
        "                if(j == 0):\n",
        "                    print(\"|\", end=\"\")\n",
        "                if(i == self.apple[0] and j == self.apple[1]):\n",
        "                    print(\"🍏\", end=\"\") \n",
        "                    p = True\n",
        "                for x, s in enumerate(self.snake):\n",
        "                    if(i == s[0] and j == s[1]):\n",
        "                        if(x == len(self.snake) -1 ):\n",
        "                            print(\"🌝\", end=\"\")\n",
        "                            p = True\n",
        "                        else:\n",
        "                            print(\"🌕\", end=\"\")\n",
        "                            p = True\n",
        "                if(p == False):\n",
        "                    print(\" ⌏ \", end=\"\")\n",
        "                if(j == self.size - 1):\n",
        "                    print(\"|\")\n",
        "        print(\"\")\n",
        "        \n",
        "    def game_over(self): \n",
        "        #Case hits on itself\n",
        "        for p in self.snake[::-2]:\n",
        "            if (p == self.snake[-1]).all():\n",
        "                return True\n",
        "            \n",
        "        #Case hits a wall\n",
        "        for p in self.snake[-1]:\n",
        "            if(p < 0 or p == self.size):\n",
        "                return True\n",
        "        return False\n",
        "    \n",
        "    \n",
        "    def get_state(self):\n",
        "            # S = Total of all environmental variations\n",
        "            # | S | = 4 ^ (self.size)\n",
        "            # Four possible states, being Snake's Head, Snake's Body, Empty or the Apple\n",
        "            # The head and body are different as the states change according to the snake's direction\n",
        "            k = 0\n",
        "            h = 0\n",
        "            for i in range(self.size):\n",
        "                for j in range(self.size):\n",
        "                    p = False  \n",
        "                    if(i == self.apple[0] and j == self.apple[1]):\n",
        "                        v = 3\n",
        "                        p = True\n",
        "                    for x, s in enumerate(self.snake):\n",
        "                        if(i == s[0] and j == s[1]):\n",
        "                            if(x == len(self.snake) -1 ):\n",
        "                                v = 2\n",
        "                                p = True\n",
        "                            else:\n",
        "                                v = 1\n",
        "                                p = True\n",
        "                    if(p == False):\n",
        "                        v =  0\n",
        "                    h += (4**k) * v\n",
        "                    k += 1\n",
        "            return h\n",
        "\n",
        "    def get_state_hash(self):\n",
        "        state = self.get_state()\n",
        "        if state not in self.states:\n",
        "            self.states.append(state)\n",
        "        return self.states.index(state)\n",
        "    \n",
        "    def reward(self):\n",
        "        reward = 0\n",
        "        if (self.snake[-1] == self.apple).all():\n",
        "            reward += 100\n",
        "        for i in range(2):\n",
        "            diff = self.apple[i] - self.snake[-1][i]\n",
        "            if(diff > 0):\n",
        "                if(self.movement[i] > 0):\n",
        "                    reward += 5\n",
        "                else:\n",
        "                    reward -= 5\n",
        "            if(diff < 0):\n",
        "                if(self.movement[i] < 0):\n",
        "                    reward += 5\n",
        "                else:\n",
        "                    reward -= 5\n",
        "        if self.game_over():\n",
        "            reward -= 100\n",
        "\n",
        "        return reward\n",
        "    \n",
        "    def set_apple(self):\n",
        "        while True:\n",
        "            apple = np.array([random.randint(0, self.size),random.randint(0, self.size)])\n",
        "            if(apple not in self.snake):\n",
        "                break\n",
        "        self.apple = apple\n",
        "        \n",
        "    def set_snake(self):\n",
        "        self.snake = np.array([[2,0], [2,1]]) \n",
        "\n",
        "    def get_value_movement(self, movement):\n",
        "        # up = 0, left = 1, down = 2, right = 3\n",
        "        return [-1, 0] if movement == 0 else [0, 1] if movement == 3 else [1, 0] if movement == 2 else [0,-1]\n",
        "    \n",
        "    def move_snake(self, action):\n",
        "        self.movement = self.get_value_movement(action)\n",
        "        print(self.movement)\n",
        "        newPosition = np.sum([self.snake[-1], self.movement], axis=0)\n",
        "        if((newPosition == self.apple).all()):\n",
        "            self.snake.append(self.apple)\n",
        "            self.set_apple()\n",
        "        else:\n",
        "            head = self.snake[-1]\n",
        "\n",
        "            # Positions of the body, without the head\n",
        "            for position in reversed(self.snake[:-1]):\n",
        "                old = position\n",
        "                position = self.snake[(-1 * index) -1]\n",
        "                self.snake[(-1 * index) -1] = old\n"
      ],
      "metadata": {
        "id": "XQ1WC4vHLZVW"
      },
      "execution_count": null,
      "outputs": []
    },
    {
      "cell_type": "code",
      "source": [
        "class Agent:\n",
        "\n",
        "    def __init__(self, size = 5):\n",
        "        self.Q = np.zeros([4**size, 4])\n",
        "\n",
        "        # Reward discount factor\n",
        "        self.discount = 0.99 \n",
        "\n",
        "        #Learning rate\n",
        "        self.learning_rate = 0.99\n",
        "        \n",
        "        # Initial probability of exploitation\n",
        "        self.epsilon = 1.0  \n",
        "\n",
        "        # Epsilon decay\n",
        "        self.epsilon_decay = 0.99\n",
        "        \n",
        "    def get_action(self, state):\n",
        "        # Epsilon-greedy \n",
        "        if random.uniform(0, 1) < self.epsilon:\n",
        "            # Exploration\n",
        "            return random.randint(0, 3)\n",
        "        else:\n",
        "            return np.argmax(self.Q[state])\n",
        "\n",
        "    def take_action(self, env, action):\n",
        "        env.move_snake(action)\n",
        "        return env.get_state_hash(), env.reward(), env.game_over() \n",
        "    \n",
        "    def train(self, env, epochs = 50, draw = False):\n",
        "        for episode in range(1,epochs+1):\n",
        "            done = False\n",
        "            G, reward = 0,0\n",
        "            state = env.get_state_hash()\n",
        "            firstState = state\n",
        "            env.reset()\n",
        "            if draw:\n",
        "                  env.draw_board()\n",
        "            while done == False:\n",
        "                action = self.get_action(state)\n",
        "                next_state, reward, done = self.take_action(env, action)\n",
        "                self.Q[state,action] += self.learning_rate * (reward + self.discount * np.max(self.Q[next_state]) - self.Q[state,action]) \n",
        "                G += reward\n",
        "                if draw:\n",
        "                  env.draw_board()\n",
        "                state = next_state\n",
        "            \n",
        "            if(episode % 1000 == 0):\n",
        "                print(\"Episode {} / Reward = {}\".format(episode, G))\n",
        "            self.epsilon = max(self.epsilon * self.epsilon_decay, 0.01)\n",
        "        finalState = state\n"
      ],
      "metadata": {
        "id": "55UyYYR7Ldho"
      },
      "execution_count": null,
      "outputs": []
    },
    {
      "cell_type": "code",
      "source": [
        "env = Environment()\n",
        "agent = Agent()\n",
        "agent.train(env)"
      ],
      "metadata": {
        "id": "T4VZMqALyzPW"
      },
      "execution_count": null,
      "outputs": []
    },
    {
      "cell_type": "code",
      "source": [
        "agent.train(env, epochs=1, draw=True)"
      ],
      "metadata": {
        "colab": {
          "base_uri": "https://localhost:8080/"
        },
        "id": "D5DK70Jtu1lz",
        "outputId": "f85be808-33ae-4dbb-ff83-10e1bb807d0c"
      },
      "execution_count": null,
      "outputs": [
        {
          "output_type": "stream",
          "name": "stdout",
          "text": [
            "[[2 0]\n",
            " [2 1]]\n",
            "| ⌏  ⌏  ⌏ 🍏 ⌏ |\n",
            "| ⌏  ⌏  ⌏  ⌏  ⌏ |\n",
            "|🌕🌝 ⌏  ⌏  ⌏ |\n",
            "| ⌏  ⌏  ⌏  ⌏  ⌏ |\n",
            "| ⌏  ⌏  ⌏  ⌏  ⌏ |\n",
            "\n",
            "[0, 1]\n",
            "0 [2 1]\n",
            "1 [2 0]\n",
            "[[2 2]\n",
            " [2 2]]\n",
            "| ⌏  ⌏  ⌏ 🍏 ⌏ |\n",
            "| ⌏  ⌏  ⌏  ⌏  ⌏ |\n",
            "| ⌏  ⌏ 🌕🌝 ⌏  ⌏ |\n",
            "| ⌏  ⌏  ⌏  ⌏  ⌏ |\n",
            "| ⌏  ⌏  ⌏  ⌏  ⌏ |\n",
            "\n"
          ]
        }
      ]
    },
    {
      "cell_type": "code",
      "source": [
        "\n",
        "for x in reversed([2,3,6][:-1]):\n",
        "  print(x)"
      ],
      "metadata": {
        "colab": {
          "base_uri": "https://localhost:8080/"
        },
        "id": "5Ppc50Os1-Ct",
        "outputId": "f6a3d576-a523-4284-9909-9954c6c53f15"
      },
      "execution_count": null,
      "outputs": [
        {
          "output_type": "stream",
          "name": "stdout",
          "text": [
            "3\n",
            "2\n"
          ]
        }
      ]
    }
  ]
}