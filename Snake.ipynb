{
 "cells": [
  {
   "cell_type": "code",
   "execution_count": 95,
   "metadata": {},
   "outputs": [],
   "source": [
    "# Imports\n",
    "import numpy as np\n",
    "import matplotlib.pyplot as plt\n",
    "from builtins import range, input\n",
    "\n",
    "# Variável para ajudar a definir o total de estados possíveis\n",
    "LENGTH = 5"
   ]
  },
  {
   "cell_type": "code",
   "execution_count": 208,
   "metadata": {},
   "outputs": [],
   "source": [
    "class Environment:\n",
    "\n",
    "    def __init__(self):\n",
    "        self.board = np.zeros((LENGTH, LENGTH))\n",
    "\n",
    "        self.ended = False\n",
    "        self.num_states = None\n",
    "\n",
    "        self.apple = []\n",
    "        self.snake = [] \n",
    "        \n",
    "        self.reset()\n",
    "\n",
    "    def reset(self):\n",
    "        self.apple = [int(np.random.rand()*(LENGTH)), int(np.random.rand()*(LENGTH))]\n",
    "        self.snake = [[2,0], [2,1]]\n",
    "        \n",
    "    def draw_board(self):\n",
    "        for i in range(LENGTH):\n",
    "            for j in range(LENGTH):\n",
    "                p = False   \n",
    "                if(j == 0):\n",
    "                    print(\"|\", end=\"\")\n",
    "                if(i == self.apple[0] and j == self.apple[1]):\n",
    "                    print(\" 0 \", end=\"\") \n",
    "                    p = True\n",
    "                for x, s in enumerate(self.snake):\n",
    "                    if(i == s[0] and j == s[1]):\n",
    "                        if(x == len(self.snake) -1 ):\n",
    "                            print(\"(¨)\", end=\"\")\n",
    "                            p = True\n",
    "                        else:\n",
    "                            print(\"===\", end=\"\")\n",
    "                            p = True\n",
    "                if(p == False):\n",
    "                    print(\"   \", end=\"\")\n",
    "                if(j == LENGTH - 1):\n",
    "                    print(\"|\")\n",
    "        print(\"\")\n",
    "        \n",
    "    def game_over(self): \n",
    "        \n",
    "        #Case hits on itself\n",
    "        for p in self.snake[0:-2]:\n",
    "            if p == self.snake[-1]:\n",
    "                return True\n",
    "            \n",
    "        #Case hits a wall\n",
    "        for p in self.snake[-1]:\n",
    "            if(p < 0 or p == LENGTH):\n",
    "                return True\n",
    "        return False\n",
    "    \n",
    "    def reward(self):\n",
    "        return 1 if self.snake[-1] == self.apple else 0\n",
    "    \n",
    "    def move_apple(self):\n",
    "        self.apple = [int(np.random.rand()*(LENGTH)), int(np.random.rand()*(LENGTH))]\n",
    "    \n",
    "    def move_snake(self, action):\n",
    "        movement = [-1, 0] if action == 'w' else [0, 1] if action == 'd' else [1, 0] if action == 's' else [0,-1]\n",
    "        if([sum(x) for x in zip(self.snake[-1], movement)] == self.apple):\n",
    "            self.snake.append(self.apple)\n",
    "        else:\n",
    "            for x, s in enumerate(reversed(self.snake)):\n",
    "                if(x == 0):\n",
    "                    oldPosition = self.snake[-1]\n",
    "                    self.snake[-1] = [sum(x) for x in zip(self.snake[-1], movement)]\n",
    "                #Update body position\n",
    "                else:\n",
    "                    old = oldPosition\n",
    "                    oldPosition = self.snake[(-1 * x) -1]\n",
    "                    self.snake[(-1 * x) -1] = old"
   ]
  },
  {
   "cell_type": "code",
   "execution_count": 209,
   "metadata": {},
   "outputs": [],
   "source": [
    "class Agent:\n",
    "\n",
    "    def __init__(self):\n",
    "        self.ok  = ''\n",
    "        \n",
    "    def take_action(self, env, action):\n",
    "        env.move_snake(action)\n",
    "        "
   ]
  },
  {
   "cell_type": "code",
   "execution_count": 230,
   "metadata": {},
   "outputs": [
    {
     "name": "stdout",
     "output_type": "stream",
     "text": [
      "|               |\n",
      "|       0       |\n",
      "|===(¨)         |\n",
      "|               |\n",
      "|               |\n",
      "\n"
     ]
    }
   ],
   "source": [
    "env = Environment()\n",
    "agent = Agent()\n",
    "reward = 0\n",
    "env.draw_board()"
   ]
  },
  {
   "cell_type": "code",
   "execution_count": 234,
   "metadata": {},
   "outputs": [
    {
     "name": "stdout",
     "output_type": "stream",
     "text": [
      "Game Over\n",
      "Hello, 0!\n"
     ]
    }
   ],
   "source": [
    "agent.take_action(env, 'd')\n",
    "if not env.game_over():\n",
    "    if env.reward() == 1:\n",
    "        reward += env.reward()\n",
    "        env.move_apple()\n",
    "    env.draw_board()\n",
    "else:\n",
    "    print('Game Over')\n",
    "    print('Reward: %s' % reward)\n",
    "    \n"
   ]
  },
  {
   "cell_type": "code",
   "execution_count": null,
   "metadata": {},
   "outputs": [],
   "source": []
  }
 ],
 "metadata": {
  "kernelspec": {
   "display_name": "Python 3",
   "language": "python",
   "name": "python3"
  },
  "language_info": {
   "codemirror_mode": {
    "name": "ipython",
    "version": 3
   },
   "file_extension": ".py",
   "mimetype": "text/x-python",
   "name": "python",
   "nbconvert_exporter": "python",
   "pygments_lexer": "ipython3",
   "version": "3.8.3"
  }
 },
 "nbformat": 4,
 "nbformat_minor": 4
}
